{
 "cells": [
  {
   "cell_type": "markdown",
   "metadata": {},
   "source": [
    "<div>\n",
    "<img src=\"images/C.png\" width=\"400\"/>\n",
    "</div>"
   ]
  },
  {
   "cell_type": "code",
   "execution_count": 3,
   "metadata": {},
   "outputs": [
    {
     "name": "stdout",
     "output_type": "stream",
     "text": [
      "fizz buzz 11 fizz 13 14 fizzbuzz 16 17\n"
     ]
    }
   ],
   "source": [
    "# Считаем левую и правую границы\n",
    "a, b = map(int, input().split())\n",
    "\n",
    "# Инициализируем список, в который будем класть результаты\n",
    "result = []\n",
    "\n",
    "# Создадим цикл, будем идти в промежутке [a, b]\n",
    "# b + 1, потому что по стандарту правая граница range не включается\n",
    "for i in range(a, b + 1):\n",
    "    \n",
    "    # Проверяем условия (будем искать остаток от деления, если он равен нулю - то число делится)\n",
    "    if i % 3 == 0 and i % 5 == 0:\n",
    "        #fizzbuzz\n",
    "        result.append('fizzbuzz')\n",
    "    \n",
    "    elif i % 5 == 0:\n",
    "        #buzz\n",
    "        result.append('buzz')\n",
    "\n",
    "    elif i % 3 == 0:\n",
    "        #fizz\n",
    "        result.append('fizz')\n",
    "\n",
    "    else:\n",
    "        # Ничего не подошло - добавляем обычное число (переведенное в строку)\n",
    "        result.append(str(i))\n",
    "\n",
    "# Печатаем результат\n",
    "print(' '.join(result))\n",
    "\n",
    "# TEST:\n",
    "# 9 17\n",
    "# NEED OUT:\n",
    "# fizz buzz 11 fizz 13 14 fizzbuzz 16 17"
   ]
  }
 ],
 "metadata": {
  "kernelspec": {
   "display_name": "venv",
   "language": "python",
   "name": "python3"
  },
  "language_info": {
   "codemirror_mode": {
    "name": "ipython",
    "version": 3
   },
   "file_extension": ".py",
   "mimetype": "text/x-python",
   "name": "python",
   "nbconvert_exporter": "python",
   "pygments_lexer": "ipython3",
   "version": "3.12.7"
  }
 },
 "nbformat": 4,
 "nbformat_minor": 2
}
