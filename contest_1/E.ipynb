{
 "cells": [
  {
   "cell_type": "markdown",
   "metadata": {},
   "source": [
    "<div>\n",
    "<img src=\"images/E1.png\" width=\"400\"/>\n",
    "<img src=\"images/E2.png\" width=\"400\"/>\n",
    "</div>"
   ]
  },
  {
   "cell_type": "code",
   "execution_count": 7,
   "metadata": {},
   "outputs": [
    {
     "name": "stdout",
     "output_type": "stream",
     "text": [
      "['USA', 'Russia', 'India'] ['USA', 'China', 'Greece'] ['Greece', 'USA', 'India']\n",
      "Greece ---\n",
      "India +++\n",
      "Greece, India\n"
     ]
    }
   ],
   "source": [
    "# Считываем список стран, в которых запланированы интересные события\n",
    "countries_events = input().split(', ')\n",
    "\n",
    "# Считываем список стран, в которых высокий уровень жизни\n",
    "countries_high_quality = input().split(', ')\n",
    "\n",
    "# Считываем список стран, которые интересны человеку\n",
    "countries_interested = input().split(', ')\n",
    "\n",
    "# Инициализируем итоговый список\n",
    "result = []\n",
    "\n",
    "# Пройдемся по списку интересующих стран и добавим ее в результат,\n",
    "# если страна входит только в 1 из других списков\n",
    "for country in countries_interested:\n",
    "\n",
    "    if (country in countries_high_quality) and (country not in countries_events):\n",
    "        # Если страна с хорошим уровнем жизни И там НЕ планируются крупные события\n",
    "        result.append(country)\n",
    "\n",
    "    elif (country not in countries_high_quality) and (country in countries_events):\n",
    "        # Если страна НЕ с хорошим уровнем жизни И там планируются крупные события\n",
    "        result.append(country)\n",
    "\n",
    "# Сортируем в алфавитном порядке\n",
    "result = sorted(result)\n",
    "\n",
    "# Печатаем\n",
    "print(', '.join(result))\n",
    "\n",
    "# TEST\n",
    "# USA, Russia, India\n",
    "# USA, China, Greece\n",
    "# Greece, USA, India\n",
    "# NEED OUT:\n",
    "# Greece, India"
   ]
  }
 ],
 "metadata": {
  "kernelspec": {
   "display_name": "venv",
   "language": "python",
   "name": "python3"
  },
  "language_info": {
   "codemirror_mode": {
    "name": "ipython",
    "version": 3
   },
   "file_extension": ".py",
   "mimetype": "text/x-python",
   "name": "python",
   "nbconvert_exporter": "python",
   "pygments_lexer": "ipython3",
   "version": "3.12.7"
  }
 },
 "nbformat": 4,
 "nbformat_minor": 2
}
