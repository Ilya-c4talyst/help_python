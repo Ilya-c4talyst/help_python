{
 "cells": [
  {
   "cell_type": "markdown",
   "metadata": {},
   "source": [
    "<div>\n",
    "<img src=\"images/A.png\" width=\"400\"/>\n",
    "</div>"
   ]
  },
  {
   "cell_type": "code",
   "execution_count": 1,
   "metadata": {},
   "outputs": [
    {
     "name": "stdout",
     "output_type": "stream",
     "text": [
      "3 2\n"
     ]
    }
   ],
   "source": [
    "# Инициализируем координаты x, y (представим обычную двумерную плоскость)\n",
    "x, y = 0, 0\n",
    "\n",
    "# Создадим цикл без условия\n",
    "while True:\n",
    "\n",
    "    # Прочитаем данные из консоли и создадаим из них список\n",
    "    way_value = input().split()\n",
    "\n",
    "    # Если нам передали STOP, или еще что-то неподходящее - выходим из цикла\n",
    "    if len(way_value) < 2:\n",
    "        break\n",
    "    \n",
    "    # Определяем направление\n",
    "    way = way_value[0]\n",
    "    # Берем целое значение шагов\n",
    "    value = int(way_value[1])\n",
    "\n",
    "    # Условная конструкция:\n",
    "    # Север -> шагаем наверх по оси у. Юг - шагаем вниз по оси у\n",
    "    # Восток -> шагаем вправо по оси x. Запад - шагаем влево по оси x\n",
    "    if way == \"N\":\n",
    "        y += value\n",
    "    elif way == \"S\":\n",
    "        y -= value\n",
    "    elif way == \"E\":\n",
    "        x += value\n",
    "    elif way == \"W\":\n",
    "        x -= value\n",
    "\n",
    "# Печатаем значения\n",
    "print(x, y)\n",
    "\n",
    "# TEST:\n",
    "# N 2\n",
    "# E 3\n",
    "# STOP\n",
    "# NEED OUT:\n",
    "# 3 2"
   ]
  }
 ],
 "metadata": {
  "kernelspec": {
   "display_name": "Python 3",
   "language": "python",
   "name": "python3"
  },
  "language_info": {
   "codemirror_mode": {
    "name": "ipython",
    "version": 3
   },
   "file_extension": ".py",
   "mimetype": "text/x-python",
   "name": "python",
   "nbconvert_exporter": "python",
   "pygments_lexer": "ipython3",
   "version": "3.12.7"
  }
 },
 "nbformat": 4,
 "nbformat_minor": 2
}
