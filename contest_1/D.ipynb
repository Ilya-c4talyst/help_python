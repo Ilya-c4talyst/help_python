{
 "cells": [
  {
   "cell_type": "markdown",
   "metadata": {},
   "source": [
    "<div>\n",
    "<img src=\"images/D1.png\" width=\"400\"/>\n",
    "<img src=\"images/D2.png\" width=\"400\"/>\n",
    "</div>"
   ]
  },
  {
   "cell_type": "code",
   "execution_count": 7,
   "metadata": {},
   "outputs": [
    {
     "name": "stdout",
     "output_type": "stream",
     "text": [
      "John\n",
      "2\n"
     ]
    }
   ],
   "source": [
    "# Считываем количество людей в классе\n",
    "students_count = int(input())\n",
    "\n",
    "# Студенты, которые были на первом семинаре\n",
    "first_sem = set(map(str, input().split()))\n",
    "\n",
    "# Студенты, которые были на втором семинаре\n",
    "second_sem = set(map(str, input().split()))\n",
    "\n",
    "# Студенты, которые были на двух семинарах\n",
    "cool_students = first_sem.intersection(second_sem)\n",
    "\n",
    "# Проверяем, были ли такие вообще, и печатаем ответ\n",
    "if len(cool_students) == 0:\n",
    "    print('No students participated in both seminars')\n",
    "else:\n",
    "    print(' '.join(sorted(cool_students)))\n",
    "\n",
    "# Количество студентов, которых не было ни на одном семинаре\n",
    "bad_students_count = students_count - len(first_sem.union(second_sem))\n",
    "# Печатаем\n",
    "print(bad_students_count)\n",
    "\n",
    "# TEST\n",
    "# 7\n",
    "# John Kyle\n",
    "# Alice John Jeremy Helen\n",
    "# NEED OUT:\n",
    "# John\n",
    "# 2"
   ]
  }
 ],
 "metadata": {
  "kernelspec": {
   "display_name": "venv",
   "language": "python",
   "name": "python3"
  },
  "language_info": {
   "codemirror_mode": {
    "name": "ipython",
    "version": 3
   },
   "file_extension": ".py",
   "mimetype": "text/x-python",
   "name": "python",
   "nbconvert_exporter": "python",
   "pygments_lexer": "ipython3",
   "version": "3.12.7"
  }
 },
 "nbformat": 4,
 "nbformat_minor": 2
}
