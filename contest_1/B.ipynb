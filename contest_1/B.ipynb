{
 "cells": [
  {
   "cell_type": "markdown",
   "metadata": {},
   "source": [
    "<div>\n",
    "<img src=\"images/B.png\" width=\"400\"/>\n",
    "</div>"
   ]
  },
  {
   "cell_type": "markdown",
   "metadata": {},
   "source": [
    "Вариант решения для продвинутых"
   ]
  },
  {
   "cell_type": "code",
   "execution_count": 1,
   "metadata": {},
   "outputs": [
    {
     "name": "stdout",
     "output_type": "stream",
     "text": [
      "120\n"
     ]
    }
   ],
   "source": [
    "def factorial(n: int) -> int:\n",
    "    \"\"\"Рекурсивная функция для получения факториала\"\"\"\n",
    "    if n == 1:\n",
    "        return 1\n",
    "\n",
    "    return n * factorial(n-1)\n",
    "\n",
    "\n",
    "# Читаем число из консоли\n",
    "number = int(input())\n",
    "# Вызываем функцию\n",
    "print(factorial(number))"
   ]
  },
  {
   "cell_type": "markdown",
   "metadata": {},
   "source": [
    "Вариант попроще"
   ]
  },
  {
   "cell_type": "code",
   "execution_count": 5,
   "metadata": {},
   "outputs": [
    {
     "name": "stdout",
     "output_type": "stream",
     "text": [
      "120\n"
     ]
    }
   ],
   "source": [
    "# Читаем число из консоли\n",
    "number = int(input())\n",
    "\n",
    "# Инициализируем результат\n",
    "result_fact = 1\n",
    "# Инициализируем счетчик, который будем прибавлять на 1 в промежутке от 1 до number\n",
    "counter = 1\n",
    "\n",
    "# 5! = 1 * 2 * 3 * 4 * 5 \n",
    "\n",
    "# Создаем цикл, пока счетчик не станет больше нашего числа\n",
    "while counter <= number:\n",
    "\n",
    "    # Умножаем результат на значение счетчика\n",
    "    result_fact *= counter\n",
    "    # Увеличиваем значение счетчика на 1\n",
    "    counter += 1\n",
    "\n",
    "# Печатаем ответ\n",
    "print(result_fact)\n",
    "\n",
    "# TEST:\n",
    "# 5\n",
    "# NEED OUT:\n",
    "# 120"
   ]
  },
  {
   "cell_type": "markdown",
   "metadata": {},
   "source": [
    "Вариант для самых хитрых и гениев"
   ]
  },
  {
   "cell_type": "code",
   "execution_count": 6,
   "metadata": {},
   "outputs": [
    {
     "name": "stdout",
     "output_type": "stream",
     "text": [
      "120\n"
     ]
    }
   ],
   "source": [
    "import math\n",
    "\n",
    "num = int(input())\n",
    "\n",
    "print(math.factorial(num))"
   ]
  }
 ],
 "metadata": {
  "kernelspec": {
   "display_name": "venv",
   "language": "python",
   "name": "python3"
  },
  "language_info": {
   "codemirror_mode": {
    "name": "ipython",
    "version": 3
   },
   "file_extension": ".py",
   "mimetype": "text/x-python",
   "name": "python",
   "nbconvert_exporter": "python",
   "pygments_lexer": "ipython3",
   "version": "3.12.7"
  }
 },
 "nbformat": 4,
 "nbformat_minor": 2
}
